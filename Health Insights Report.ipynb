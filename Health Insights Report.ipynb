{
 "cells": [
  {
   "cell_type": "markdown",
   "id": "a6856e61-a62c-4a79-b42a-798730da7f9f",
   "metadata": {},
   "source": [
    "# Author : Harshal Devidas Baviskar\n",
    "# Project Name: Health Insights Dashboard"
   ]
  },
  {
   "cell_type": "code",
   "execution_count": null,
   "id": "372ff7c0-2c9c-41d5-8db4-18bd4c1a91c1",
   "metadata": {},
   "outputs": [],
   "source": [
    "import pandas as pd"
   ]
  },
  {
   "cell_type": "code",
   "execution_count": null,
   "id": "d739be56-018a-463c-8a7d-2272702ba495",
   "metadata": {},
   "outputs": [],
   "source": [
    "# Load the dataset\n",
    "file_path = r\"C:\\Users\\Lenovo\\Downloads\\archive (1).zip\"\n",
    "df = pd.read_csv(file_path)"
   ]
  },
  {
   "cell_type": "code",
   "execution_count": null,
   "id": "a12c9e99-07be-47fb-8744-4081e6405d9a",
   "metadata": {},
   "outputs": [],
   "source": [
    "# General processes\n",
    "# View the first few rows of the DataFrame\n",
    "print(df.head())"
   ]
  },
  {
   "cell_type": "code",
   "execution_count": null,
   "id": "57e6eb48-cc6f-4ab6-af03-e552222bf2de",
   "metadata": {},
   "outputs": [],
   "source": [
    "# Summary statistics\n",
    "print(df.describe())"
   ]
  },
  {
   "cell_type": "code",
   "execution_count": null,
   "id": "f4a1aecc-a3ca-4ad1-bf67-cf291203f15e",
   "metadata": {},
   "outputs": [],
   "source": [
    "# Check for missing values\n",
    "print(df.isnull().sum())"
   ]
  },
  {
   "cell_type": "code",
   "execution_count": null,
   "id": "5b359b25-569e-4cd9-8763-a8ac414b51ef",
   "metadata": {},
   "outputs": [],
   "source": [
    "# Column information\n",
    "print(df.info())"
   ]
  },
  {
   "cell_type": "code",
   "execution_count": null,
   "id": "35236531-cfd0-4e9c-84a6-1cd94800a7df",
   "metadata": {},
   "outputs": [],
   "source": [
    "# Unique values in 'Medical Condition' column\n",
    "print(df['Medical Condition'].unique())"
   ]
  },
  {
   "cell_type": "code",
   "execution_count": null,
   "id": "35ddb2c2-a246-4010-b227-66157b7ca35a",
   "metadata": {},
   "outputs": [],
   "source": [
    "# Value counts for 'Medical Condition'\n",
    "print(df['Medical Condition'].value_counts())"
   ]
  },
  {
   "cell_type": "code",
   "execution_count": null,
   "id": "70bb179c-6be1-41c3-afdb-9670c82e1e0d",
   "metadata": {},
   "outputs": [],
   "source": [
    "# Filter data for patients with 'Diabetes'\n",
    "diabetes_patients = df[df['Medical Condition'] == 'Diabetes']\n",
    "print(diabetes_patients.head())"
   ]
  },
  {
   "cell_type": "code",
   "execution_count": null,
   "id": "9206ef95-c2d9-4820-b3d3-0fc57e4474ea",
   "metadata": {},
   "outputs": [],
   "source": [
    "# Sort the DataFrame by 'Age'\n",
    "df_sorted = df.sort_values(by='Age')\n",
    "print(df_sorted.head())"
   ]
  },
  {
   "cell_type": "code",
   "execution_count": null,
   "id": "e1670e0b-e028-47ee-881b-5dbf079960f6",
   "metadata": {},
   "outputs": [],
   "source": [
    "#Group by 'Medical Condition' and get mean 'Billing Amount'\n",
    "df_grouped = df.groupby('Medical Condition')['Billing Amount'].mean()\n",
    "print(df_grouped)"
   ]
  },
  {
   "cell_type": "code",
   "execution_count": null,
   "id": "94f902d8-08b1-4e05-8413-6ebf0912c8ec",
   "metadata": {},
   "outputs": [],
   "source": [
    "# Intermediate level processes\n",
    "# Handle missing values\n",
    "df['Billing Amount'].fillna(df['Billing Amount'].mean(), inplace=True)\n",
    "df.dropna(subset=['Doctor'], inplace=True)"
   ]
  },
  {
   "cell_type": "code",
   "execution_count": null,
   "id": "3a70ca18-f7b0-4600-9753-52fa49119d4e",
   "metadata": {},
   "outputs": [],
   "source": [
    "# Convert data types\n",
    "df['Date of Admission'] = pd.to_datetime(df['Date of Admission'])\n",
    "df['Discharge Date'] = pd.to_datetime(df['Discharge Date'])"
   ]
  },
  {
   "cell_type": "code",
   "execution_count": null,
   "id": "702bbd35-5358-4db7-9329-7a44ff4ab231",
   "metadata": {},
   "outputs": [],
   "source": [
    "# Create new columns\n",
    "df['Length of Stay'] = (df['Discharge Date'] - df['Date of Admission']).dt.days"
   ]
  },
  {
   "cell_type": "code",
   "execution_count": null,
   "id": "85c09dde-ee6f-4d39-9763-5c8f1f65b232",
   "metadata": {},
   "outputs": [],
   "source": [
    "# Apply functions to columns\n",
    "df['Age Group'] = df['Age'].apply(lambda x: 'Senior' if x > 65 else 'Adult')"
   ]
  },
  {
   "cell_type": "code",
   "execution_count": null,
   "id": "027c072e-50f0-4119-8a9f-2cf5c76fae3f",
   "metadata": {},
   "outputs": [],
   "source": [
    "# Merge DataFrames (example)\n",
    "df1 = pd.DataFrame({'ID': [1, 2], 'Value': [10, 20]})\n",
    "df2 = pd.DataFrame({'ID': [1, 2], 'Label': ['A', 'B']})\n",
    "merged_df = pd.merge(df1, df2, on='ID')\n",
    "print(merged_df)"
   ]
  },
  {
   "cell_type": "code",
   "execution_count": null,
   "id": "099a4fd9-8497-4175-bcd0-f8310d2c6869",
   "metadata": {},
   "outputs": [],
   "source": [
    "# Create pivot table\n",
    "pivot_df = df.pivot_table(values='Billing Amount', index='Hospital', columns='Medical Condition', aggfunc='mean')\n",
    "print(pivot_df)"
   ]
  },
  {
   "cell_type": "code",
   "execution_count": null,
   "id": "eaa5752c-7df1-4e57-8a54-04e573744fe0",
   "metadata": {},
   "outputs": [],
   "source": [
    "# Reshape data using melt\n",
    "melted_df = df.melt(id_vars=['Name'], value_vars=['Age', 'Billing Amount'])\n",
    "print(melted_df.head())"
   ]
  },
  {
   "cell_type": "code",
   "execution_count": null,
   "id": "d8062090-6dbf-4c38-83b7-bb8b0bb03662",
   "metadata": {},
   "outputs": [],
   "source": [
    "# Remove duplicate rows\n",
    "df.drop_duplicates(subset=['Name', 'Date of Admission'], inplace=True)"
   ]
  },
  {
   "cell_type": "code",
   "execution_count": null,
   "id": "fa895e4b-83dc-44e2-8ef8-77303ad7dc3b",
   "metadata": {},
   "outputs": [],
   "source": [
    "# Create conditional columns\n",
    "df['High Billing'] = df['Billing Amount'].apply(lambda x: 'Yes' if x > 20000 else 'No')"
   ]
  },
  {
   "cell_type": "code",
   "execution_count": null,
   "id": "5be531c8-2cee-4713-a541-739588426d94",
   "metadata": {},
   "outputs": [],
   "source": [
    "# Perform string operations\n",
    "df['Name'] = df['Name'].str.upper()\n",
    "df['Doctor'] = df['Doctor'].str.strip()"
   ]
  },
  {
   "cell_type": "code",
   "execution_count": null,
   "id": "7d060f43-276f-4885-a47f-470171a4231a",
   "metadata": {},
   "outputs": [],
   "source": [
    "# Print the cleaned and transformed DataFrame\n",
    "print(df.head())"
   ]
  },
  {
   "cell_type": "code",
   "execution_count": null,
   "id": "decba70f-c1b6-4459-916d-e7bb8b753df8",
   "metadata": {},
   "outputs": [],
   "source": [
    "# Save the cleaned DataFrame for use in visualizations\n",
    "df.to_csv('cleaned_healthcare_dataset_2.csv', index=False)"
   ]
  },
  {
   "cell_type": "markdown",
   "id": "6e545af2-7685-4f72-ac2f-824bf8639cac",
   "metadata": {},
   "source": [
    "# Visualizations"
   ]
  },
  {
   "cell_type": "code",
   "execution_count": null,
   "id": "b37013c7-4f60-479c-8ad4-33793a8166eb",
   "metadata": {},
   "outputs": [],
   "source": [
    "import matplotlib.pyplot as plt\n",
    "import seaborn as sns"
   ]
  },
  {
   "cell_type": "code",
   "execution_count": null,
   "id": "fb0c1206-db62-483f-b65e-a3a0d71fc741",
   "metadata": {},
   "outputs": [],
   "source": [
    "# Load the cleaned dataset\n",
    "file_path = 'cleaned_healthcare_dataset_2.csv'\n",
    "df = pd.read_csv(file_path)"
   ]
  },
  {
   "cell_type": "code",
   "execution_count": null,
   "id": "57a86e82-b33d-410d-96d5-a15e1ac69ff4",
   "metadata": {},
   "outputs": [],
   "source": [
    "# Convert date columns to datetime if they are not already\n",
    "df['Date of Admission'] = pd.to_datetime(df['Date of Admission'])\n",
    "df['Discharge Date'] = pd.to_datetime(df['Discharge Date'])"
   ]
  },
  {
   "cell_type": "code",
   "execution_count": null,
   "id": "78166ac7-7ea3-4c16-a020-a61ecf1977da",
   "metadata": {},
   "outputs": [],
   "source": [
    "# Calculate length of stay\n",
    "df['Length of Stay'] = (df['Discharge Date'] - df['Date of Admission']).dt.days"
   ]
  },
  {
   "cell_type": "markdown",
   "id": "225a5998-6e0e-4c11-946f-84e07a035261",
   "metadata": {},
   "source": [
    "# Relationship Visualizations"
   ]
  },
  {
   "cell_type": "code",
   "execution_count": null,
   "id": "569ed83e-3e38-46cb-9b85-41861245af7a",
   "metadata": {},
   "outputs": [],
   "source": [
    "# 1. How does age correlate with billing amount?\n",
    "# Create a heatmap to show the density of Age vs Billing Amount\n",
    "plt.figure(figsize=(10, 6))\n",
    "heatmap_data = df[['Age', 'Billing Amount']]\n",
    "\n",
    "# Create a 2D histogram (heatmap)\n",
    "plt.hexbin(heatmap_data['Age'], heatmap_data['Billing Amount'], gridsize=50, cmap='Blues', mincnt=1)\n",
    "plt.colorbar(label='Counts')\n",
    "plt.title('Age vs Billing Amount Heatmap',fontweight='bold')\n",
    "plt.xlabel('Age',fontweight='bold')\n",
    "plt.ylabel('Billing Amount',fontweight='bold')\n",
    "\n",
    "# Insights\n",
    "insights = \"\"\"\n",
    "Insights for Hospitals:\n",
    "1. Younger patients tend to have lower billing amounts, possibly due to fewer chronic conditions.\n",
    "2. Billing amounts increase with age, highlighting the need for targeted cost management for older patients.\n",
    "\n",
    "Insights for Patients:\n",
    "1. Younger patients might incur lower healthcare costs, indicating potentially fewer health issues.\n",
    "2. Older patients should be prepared for higher medical expenses and plan their finances accordingly.\n",
    "\"\"\"\n",
    "\n",
    "plt.figtext(0.5, -0.2, insights, wrap=True, horizontalalignment='center', fontsize=10)\n",
    "plt.tight_layout()\n",
    "plt.show()"
   ]
  },
  {
   "cell_type": "code",
   "execution_count": null,
   "id": "d7cdaed1-eb08-466f-8ed5-7f838912d2fd",
   "metadata": {},
   "outputs": [],
   "source": [
    "# 2. What is the relationship between the number of admissions and the medical condition?\n",
    "admissions_per_condition = df['Medical Condition'].value_counts()\n",
    "plt.figure(figsize=(10, 6))\n",
    "sns.scatterplot(x=admissions_per_condition.index, y=admissions_per_condition.values)\n",
    "plt.title('Number of Admissions vs Medical Condition',fontweight='bold')\n",
    "plt.xlabel('Medical Condition',fontweight='bold')\n",
    "plt.ylabel('Number of Admissions',fontweight='bold')\n",
    "plt.xticks(rotation=90)\n",
    "\n",
    "# Insights\n",
    "insights = \"\"\"\n",
    "Insights for Hospitals:\n",
    "1. High admission rates for specific conditions highlight areas where additional resources and specialized care may be needed.\n",
    "2. Monitoring frequent conditions can help in early diagnosis and treatment, improving patient outcomes.\n",
    "\n",
    "Insights for Patients:\n",
    "1. Understanding common medical conditions can help patients be more vigilant about their health.\n",
    "2. Awareness of frequent conditions allows patients to seek early medical intervention, potentially reducing hospital stays and costs.\n",
    "\"\"\"\n",
    "\n",
    "plt.figtext(0.5, -0.2, insights, wrap=True, horizontalalignment='center', fontsize=10)\n",
    "plt.tight_layout()\n",
    "plt.show()"
   ]
  },
  {
   "cell_type": "code",
   "execution_count": null,
   "id": "5c87376a-46f2-40d3-b1d7-649720ad7075",
   "metadata": {},
   "outputs": [],
   "source": [
    "# 3. How does the length of stay correlate with billing amount?\n",
    "plt.figure(figsize=(10, 6))\n",
    "plt.hexbin(df['Length of Stay'], df['Billing Amount'], gridsize=50, cmap='Blues', mincnt=1)\n",
    "plt.colorbar(label='Counts')\n",
    "plt.title('Length of Stay vs Billing Amount Hexbin Plot',fontweight='bold')\n",
    "plt.xlabel('Length of Stay (days)',fontweight='bold')\n",
    "plt.ylabel('Billing Amount',fontweight='bold')\n",
    "\n",
    "# Insights\n",
    "insights = \"\"\"\n",
    "Insights for Hospitals:\n",
    "1. Longer stays are associated with higher billing amounts, indicating the need for efficient patient management to reduce costs.\n",
    "2. High-density areas suggest common lengths of stay that might be targeted for process improvements.\n",
    "\n",
    "Insights for Patients:\n",
    "1. Patients should be aware that extended hospital stays significantly increase costs.\n",
    "2. Understanding this relationship can help patients advocate for efficient care and discharge planning.\n",
    "\"\"\"\n",
    "\n",
    "plt.figtext(0.5, -0.2, insights, wrap=True, horizontalalignment='center', fontsize=10)\n",
    "plt.tight_layout()\n",
    "plt.show()"
   ]
  },
  {
   "cell_type": "code",
   "execution_count": null,
   "id": "80377d84-92f1-4ea9-b39c-c5ebc5749d21",
   "metadata": {},
   "outputs": [],
   "source": [
    "# 4. Is there a relationship between blood type and medical conditions?\n",
    "blood_type_condition = pd.crosstab(df['Blood Type'], df['Medical Condition'])\n",
    "plt.figure(figsize=(10, 6))\n",
    "sns.heatmap(blood_type_condition, annot=True, cmap='coolwarm')\n",
    "plt.title('Blood Type vs Medical Condition',fontweight='bold')\n",
    "plt.xlabel('Medical Condition',fontweight='bold')\n",
    "plt.ylabel('Blood Type',fontweight='bold')\n",
    "\n",
    "# Insights\n",
    "insights = \"\"\"\n",
    "Insights for Hospitals:\n",
    "1. Specific medical conditions may be more prevalent among certain blood types, aiding in targeted screening and prevention programs.\n",
    "2. Understanding these patterns can help in resource allocation and personalized patient care.\n",
    "\n",
    "Insights for Patients:\n",
    "1. Patients with certain blood types can be more vigilant about conditions prevalent in their group.\n",
    "2. Awareness of these trends can encourage regular check-ups and proactive health management.\n",
    "\"\"\"\n",
    "\n",
    "plt.figtext(0.5, -0.2, insights, wrap=True, horizontalalignment='center', fontsize=10)\n",
    "plt.tight_layout()\n",
    "plt.show()"
   ]
  },
  {
   "cell_type": "code",
   "execution_count": null,
   "id": "0b3c8048-812e-417f-ac83-9c66bd602922",
   "metadata": {},
   "outputs": [],
   "source": [
    "# 5. How do different insurance providers affect the billing amounts for different medical conditions?\n",
    "plt.figure(figsize=(12, 8))\n",
    "sns.boxplot(x='Medical Condition', y='Billing Amount', hue='Insurance Provider', data=df)\n",
    "plt.title('Billing Amount Distribution for Medical Conditions by Insurance Providers',fontweight='bold')\n",
    "plt.xlabel('Medical Condition',fontweight='bold')\n",
    "plt.ylabel('Billing Amount',fontweight='bold')\n",
    "plt.xticks(rotation=90)\n",
    "plt.legend(title='Insurance Provider')\n",
    "\n",
    "# Insights\n",
    "insights = \"\"\"\n",
    "Insights for Hospitals:\n",
    "1. Variation in billing amounts across insurance providers for the same condition highlights potential discrepancies in coverage and negotiated rates.\n",
    "2. Hospitals can use this data to negotiate better rates with insurance providers and ensure fair pricing for all patients.\n",
    "\n",
    "Insights for Patients:\n",
    "1. Patients should be aware that their insurance provider can significantly affect their billing amount for the same medical condition.\n",
    "2. Choosing an insurance provider with better coverage and negotiated rates can lead to lower out-of-pocket expenses.\n",
    "\"\"\"\n",
    "\n",
    "plt.figtext(0.5, -0.2, insights, wrap=True, horizontalalignment='center', fontsize=10)\n",
    "plt.tight_layout()\n",
    "plt.show()\n",
    "\n"
   ]
  },
  {
   "cell_type": "markdown",
   "id": "af98eef2-0813-4917-83b2-29d296f698b9",
   "metadata": {},
   "source": [
    "# Comparison Visualizations"
   ]
  },
  {
   "cell_type": "code",
   "execution_count": null,
   "id": "06121c1f-cc04-45dc-b53c-58b16b0a85bc",
   "metadata": {},
   "outputs": [],
   "source": [
    "# 1. What is the distribution of different blood types across genders?\n",
    "plt.figure(figsize=(12, 8))\n",
    "sns.countplot(x='Blood Type', hue='Gender', data=df)\n",
    "plt.title('Distribution of Blood Types across Genders',fontweight='bold')\n",
    "plt.xlabel('Blood Type',fontweight='bold')\n",
    "plt.ylabel('Count',fontweight='bold')\n",
    "\n",
    "# Insights\n",
    "insights = \"\"\"\n",
    "Insights for Hospitals:\n",
    "1. Understanding the distribution of blood types across genders helps in effective blood bank management and preparedness for transfusions.\n",
    "2. Hospitals can ensure a balanced supply of different blood types to meet the demand for both genders.\n",
    "\n",
    "Insights for Patients:\n",
    "1. Awareness of blood type distribution can help patients understand the availability of their blood type for emergencies.\n",
    "2. Patients can consider donating blood to maintain an adequate supply of rare blood types.\n",
    "\"\"\"\n",
    "\n",
    "plt.figtext(0.5, -0.2, insights, wrap=True, horizontalalignment='center', fontsize=10)\n",
    "plt.tight_layout()\n",
    "plt.show()"
   ]
  },
  {
   "cell_type": "code",
   "execution_count": null,
   "id": "feb3bf29-4fb6-4d7c-a135-4db98d828850",
   "metadata": {},
   "outputs": [],
   "source": [
    "# 2. How do the lengths of stay differ across different admission types (e.g., urgent, emergency, elective)?\n",
    "plt.figure(figsize=(12, 8))\n",
    "sns.boxplot(x='Admission Type', y='Length of Stay', data=df)\n",
    "plt.title('Length of Stay across Different Admission Types',fontweight='bold')\n",
    "plt.xlabel('Admission Type',fontweight='bold')\n",
    "plt.ylabel('Length of Stay (days)',fontweight='bold')\n",
    "\n",
    "\n",
    "# Insights \n",
    "insights = \"\"\"\n",
    "Insights for Hospitals:\n",
    "1. Urgent and emergency admissions typically have longer stays compared to elective admissions due to the critical nature of these cases.\n",
    "2. Understanding the variation in lengths of stay can help in better resource allocation and bed management.\n",
    "\n",
    "Insights for Patients:\n",
    "1. Patients admitted on an elective basis generally experience shorter hospital stays, which can be less disruptive to their personal and professional lives.\n",
    "2. Awareness of potential lengths of stay can help patients and their families plan better for hospitalization and recovery periods.\n",
    "\"\"\"\n",
    "\n",
    "\n",
    "plt.figtext(0.5, -0.2, insights, wrap=True, horizontalalignment='center', fontsize=10)\n",
    "plt.tight_layout()\n",
    "plt.show()"
   ]
  },
  {
   "cell_type": "code",
   "execution_count": null,
   "id": "fd17024c-25c3-4afd-aeef-87dbf0073c44",
   "metadata": {},
   "outputs": [],
   "source": [
    "# Alternative visualization using violin plot\n",
    "plt.figure(figsize=(12, 8))\n",
    "sns.violinplot(x='Admission Type', y='Length of Stay', data=df)\n",
    "plt.title('Length of Stay across Different Admission Types',fontweight='bold')\n",
    "plt.xlabel('Admission Type',fontweight='bold')\n",
    "plt.ylabel('Length of Stay (days)',fontweight='bold')\n",
    "\n",
    "# Insights \n",
    "insights = \"\"\"\n",
    "Insights for Hospitals:\n",
    "1. Urgent and emergency admissions typically have longer stays compared to elective admissions due to the critical nature of these cases.\n",
    "2. Understanding the variation in lengths of stay can help in better resource allocation and bed management.\n",
    "\n",
    "Insights for Patients:\n",
    "1. Patients admitted on an elective basis generally experience shorter hospital stays, which can be less disruptive to their personal and professional lives.\n",
    "2. Awareness of potential lengths of stay can help patients and their families plan better for hospitalization and recovery periods.\n",
    "\"\"\"\n",
    "\n",
    "\n",
    "plt.figtext(0.5, -0.2, insights, wrap=True, horizontalalignment='center', fontsize=10)\n",
    "plt.tight_layout()\n",
    "plt.show()"
   ]
  },
  {
   "cell_type": "code",
   "execution_count": null,
   "id": "29761ba4-b92d-4cd4-a243-6f901fdc8c00",
   "metadata": {},
   "outputs": [],
   "source": [
    "# 3. What are the most common medical conditions by age group?\n",
    "age_bins = [0, 18, 35, 50, 65, 80, 100]\n",
    "age_labels = ['0-18', '19-35', '36-50', '51-65', '66-80', '81-100']\n",
    "df['Age Group'] = pd.cut(df['Age'], bins=age_bins, labels=age_labels)\n",
    "\n",
    "plt.figure(figsize=(12, 8))\n",
    "sns.countplot(x='Age Group', hue='Medical Condition', data=df)\n",
    "plt.title('Most Common Medical Conditions by Age Group',fontweight='bold')\n",
    "plt.xlabel('Age Group',fontweight='bold')\n",
    "plt.ylabel('Count',fontweight='bold')\n",
    "plt.xticks(rotation=45)\n",
    "plt.legend(title='Medical Condition', bbox_to_anchor=(1.05, 1), loc='upper left')\n",
    "\n",
    "# Insights\n",
    "insights = \"\"\"\n",
    "Insights for Hospitals:\n",
    "1. Understanding the prevalence of medical conditions across age groups helps in planning specialized care and resource allocation.\n",
    "2. Hospitals can design targeted prevention and treatment programs based on the most common conditions in each age group.\n",
    "\n",
    "Insights for Patients:\n",
    "1. Awareness of common medical conditions in their age group can help individuals take preventive measures.\n",
    "2. Patients can engage in age-appropriate health screenings and lifestyle adjustments to mitigate risks associated with prevalent conditions.\n",
    "\"\"\"\n",
    "\n",
    "plt.figtext(0.5, -0.2, insights, wrap=True, horizontalalignment='center', fontsize=10)\n",
    "plt.tight_layout()\n",
    "plt.show()"
   ]
  },
  {
   "cell_type": "markdown",
   "id": "60f2c1df-4d80-4d84-899f-f22a8e3493ab",
   "metadata": {},
   "source": [
    "# Distribution Visualizations"
   ]
  },
  {
   "cell_type": "code",
   "execution_count": null,
   "id": "245d9ea2-f612-4474-9ea3-df428a499607",
   "metadata": {},
   "outputs": [],
   "source": [
    "# 1. What is the age distribution of patients in the dataset?\n",
    "plt.figure(figsize=(10, 6))\n",
    "sns.histplot(df['Age'], bins=30, kde=True)\n",
    "plt.title('Age Distribution of Patients',fontweight='bold')\n",
    "plt.xlabel('Age',fontweight='bold')\n",
    "plt.ylabel('Frequency',fontweight='bold')\n",
    "\n",
    "# Insights specific to Age Distribution of Patients\n",
    "insights = \"\"\"\n",
    "Insights for Hospitals:\n",
    "1. Analyzing the age distribution of patients helps in understanding the demographics of the patient population, which can influence hospital services and resource allocation.\n",
    "2. Hospitals can tailor their healthcare services and programs to better meet the needs of the age groups that form the largest segments of their patient population.\n",
    "\n",
    "Insights for Patients:\n",
    "1. Awareness of the age distribution among patients can help individuals understand the commonality of healthcare needs among different age groups.\n",
    "2. Patients can use this information to advocate for age-appropriate healthcare services and preventive care initiatives.\n",
    "\"\"\"\n",
    "\n",
    "plt.figtext(0.5, -0.3, insights, wrap=True, horizontalalignment='center', fontsize=10)\n",
    "plt.tight_layout()\n",
    "plt.show()"
   ]
  },
  {
   "cell_type": "code",
   "execution_count": null,
   "id": "acdfbf17-6921-4220-90b6-160ac557db9a",
   "metadata": {},
   "outputs": [],
   "source": [
    "# 2. What is the distribution of billing amounts?\n",
    "plt.figure(figsize=(10, 6))\n",
    "sns.histplot(df['Billing Amount'], bins=30, kde=True)\n",
    "plt.title('Distribution of Billing Amounts',fontweight='bold')\n",
    "plt.xlabel('Billing Amount',fontweight='bold')\n",
    "plt.ylabel('Frequency',fontweight='bold')\n",
    "\n",
    "\n",
    "# Insights \n",
    "insights = \"\"\"\n",
    "Insights for Hospitals:\n",
    "1. Understanding the distribution of billing amounts can help in identifying common cost ranges for different treatments and services.\n",
    "2. Hospitals can use this data to evaluate their pricing strategies and ensure they are competitive while covering costs effectively.\n",
    "3. Analyzing billing amounts can also help in detecting any anomalies or outliers that may indicate billing errors or fraudulent activities.\n",
    "\n",
    "Insights for Patients:\n",
    "1. Awareness of the common billing amounts can help patients anticipate and plan for potential healthcare expenses.\n",
    "2. Patients can use this information to compare costs across different healthcare providers and make informed decisions about their care.\n",
    "3. Understanding the distribution of billing amounts can also empower patients to ask relevant questions about the costs of their treatments and services.\n",
    "\"\"\"\n",
    "\n",
    "plt.figtext(0.5, -0.3, insights, wrap=True, horizontalalignment='center', fontsize=10)\n",
    "plt.tight_layout()\n",
    "plt.show()\n"
   ]
  },
  {
   "cell_type": "code",
   "execution_count": null,
   "id": "e91c8f62-a5aa-4a56-a351-4603344a7689",
   "metadata": {},
   "outputs": [],
   "source": [
    "# 3. How is the distribution of length of stay across different admission types?\n",
    "plt.figure(figsize=(12, 8))\n",
    "sns.violinplot(x='Admission Type', y='Length of Stay', data=df)\n",
    "plt.title('Distribution of Length of Stay across Different Admission Types',fontweight='bold')\n",
    "plt.xlabel('Admission Type',fontweight='bold')\n",
    "plt.ylabel('Length of Stay (days)',fontweight='bold')\n",
    "\n",
    "insights = \"\"\"\n",
    "Insights for Hospitals:\n",
    "1. The length of stay varies significantly across different admission types, with emergency and urgent admissions typically resulting in longer hospital stays due to the severity of conditions.\n",
    "2. Elective admissions tend to have shorter stays as these are planned procedures and patients are often in better health beforehand.\n",
    "3. Understanding these patterns helps in optimizing bed management and resource allocation to ensure efficient patient flow and hospital operations.\n",
    "\n",
    "Insights for Patients:\n",
    "1. Patients admitted for elective procedures can expect shorter hospital stays, which can help in better planning for post-discharge care and recovery.\n",
    "2. Awareness of the potential length of stay based on admission type can help patients and their families prepare for the duration of \n",
    "   hospitalization and associated costs.\"\"\"\n",
    "\n",
    "plt.figtext(0.5, -0.2, insights, wrap=True, horizontalalignment='center', fontsize=10)\n",
    "plt.tight_layout()\n",
    "plt.show()"
   ]
  },
  {
   "cell_type": "code",
   "execution_count": null,
   "id": "ff1c04a5-2a3b-4c10-bd9e-b571d78fcee0",
   "metadata": {},
   "outputs": [],
   "source": [
    "# 4. What is the distribution of different blood types?\n",
    "plt.figure(figsize=(10, 6))\n",
    "sns.countplot(x='Blood Type', data=df)\n",
    "plt.title('Distribution of Different Blood Types',fontweight='bold')\n",
    "plt.xlabel('Blood Type',fontweight='bold')\n",
    "plt.ylabel('Count',fontweight='bold')\n",
    "\n",
    "\n",
    "# Insights\n",
    "insights = \"\"\"\n",
    "Insights for Hospitals:\n",
    "1. Understanding the overall distribution of blood types helps in managing blood bank inventories effectively.\n",
    "2. Hospitals can identify which blood types are more common and which are rarer, allowing for targeted blood donation drives.\n",
    "\n",
    "Insights for Patients:\n",
    "1. Patients can see how common or rare their blood type is, providing awareness for personal medical preparedness.\n",
    "2. Individuals with rare blood types might be encouraged to donate more frequently to ensure an adequate supply for emergencies.\n",
    "\"\"\"\n",
    "\n",
    "plt.figtext(0.5, -0.2, insights, wrap=True, horizontalalignment='center', fontsize=10)\n",
    "plt.tight_layout()\n",
    "plt.show()\n"
   ]
  },
  {
   "cell_type": "code",
   "execution_count": null,
   "id": "62848c6e-d317-4aa3-a7a2-94de47a30acd",
   "metadata": {},
   "outputs": [],
   "source": [
    "# 5. What is the distribution of medical conditions across the dataset?\n",
    "plt.figure(figsize=(12, 8))\n",
    "sns.countplot(y='Medical Condition', data=df, order=df['Medical Condition'].value_counts().index)\n",
    "plt.title('Distribution of Medical Conditions',fontweight='bold')\n",
    "plt.xlabel('Count',fontweight='bold')\n",
    "plt.ylabel('Medical Condition',fontweight='bold')\n",
    "\n",
    "\n",
    "# Insights\n",
    "insights = \"\"\"\n",
    "Insights for Hospitals:\n",
    "1. Identifying the most common medical conditions can help in resource allocation and specialized staff training.\n",
    "2. Hospitals can develop targeted treatment programs and preventive measures for prevalent conditions.\n",
    "\n",
    "Insights for Patients:\n",
    "1. Understanding the prevalence of certain medical conditions can help patients be more proactive about their health.\n",
    "2. Patients can seek information and resources about common conditions to better manage their health and prevent complications.\n",
    "\"\"\"\n",
    "\n",
    "plt.figtext(0.5, -0.2, insights, wrap=True, horizontalalignment='center', fontsize=10)\n",
    "plt.tight_layout()\n",
    "plt.show()"
   ]
  },
  {
   "cell_type": "markdown",
   "id": "f248e120-0b1c-416d-ba88-fbf2163eb52a",
   "metadata": {},
   "source": [
    "# Composition Visualizations"
   ]
  },
  {
   "cell_type": "code",
   "execution_count": null,
   "id": "c32560fc-5b5b-4fb3-bcfd-975c96962d30",
   "metadata": {},
   "outputs": [],
   "source": [
    "# 1. What is the composition of medical conditions among patients?\n",
    "plt.figure(figsize=(10, 6))\n",
    "df['Medical Condition'].value_counts().plot.pie(autopct='%1.1f%%', startangle=140)\n",
    "plt.title('Composition of Medical Conditions among Patients',fontweight='bold')\n",
    "plt.ylabel('')\n",
    "\n",
    "# Insights\n",
    "insights = \"\"\"\n",
    "Insights for Hospitals:\n",
    "1. Understanding the composition of medical conditions helps in prioritizing resources and staff training to manage the most common conditions.\n",
    "2. Hospitals can allocate budgets effectively to develop specialized programs and facilities for prevalent conditions.\n",
    "\n",
    "Insights for Patients:\n",
    "1. Awareness of the most common medical conditions can encourage patients to take preventive measures and seek early treatment.\n",
    "2. Patients can gain insights into the health trends within their community, helping them to stay informed and proactive about their health.\n",
    "\"\"\"\n",
    "\n",
    "plt.figtext(0.5, -0.2, insights, wrap=True, horizontalalignment='center', fontsize=10)\n",
    "plt.tight_layout()\n",
    "plt.show()"
   ]
  },
  {
   "cell_type": "code",
   "execution_count": null,
   "id": "86bb7742-b01f-45e8-8888-5671478a2706",
   "metadata": {},
   "outputs": [],
   "source": [
    "# 2. What is the breakdown of patients by blood type?\n",
    "plt.figure(figsize=(10, 6))\n",
    "df['Blood Type'].value_counts().plot.pie(autopct='%1.1f%%', startangle=140)\n",
    "plt.title('Breakdown of Patients by Blood Type',fontweight='bold')\n",
    "plt.ylabel('')\n",
    "\n",
    "# Insights\n",
    "insights = \"\"\"\n",
    "Insights for Hospitals:\n",
    "1. Understanding the distribution of blood types among patients helps in managing blood inventory and ensuring the availability of all blood types.\n",
    "2. Hospitals can plan blood donation drives more effectively, targeting blood types that are in lower supply.\n",
    "\n",
    "Insights for Patients:\n",
    "1. Patients can understand the prevalence of their blood type within the community, which can help in emergency situations.\n",
    "2. Individuals with rare blood types might be encouraged to donate blood more frequently to ensure an adequate supply for others in need.\n",
    "\"\"\"\n",
    "\n",
    "plt.figtext(0.5, -0.2, insights, wrap=True, horizontalalignment='center', fontsize=10)\n",
    "plt.tight_layout()\n",
    "plt.show()\n",
    "\n"
   ]
  },
  {
   "cell_type": "code",
   "execution_count": null,
   "id": "57e1b2b3-cb9f-4e4e-907e-50cb38f75a96",
   "metadata": {},
   "outputs": [],
   "source": [
    "# 3. How are billing amounts distributed across different insurance providers?\n",
    "insurance_billing = df.groupby('Insurance Provider')['Billing Amount'].sum().reset_index()\n",
    "plt.figure(figsize=(12, 8))\n",
    "sns.barplot(x='Insurance Provider', y='Billing Amount', data=insurance_billing)\n",
    "plt.title('Billing Amounts by Insurance Providers',fontweight='bold')\n",
    "plt.xlabel('Insurance Provider',fontweight='bold')\n",
    "plt.ylabel('Total Billing Amount',fontweight='bold')\n",
    "plt.xticks(rotation=45)\n",
    "\n",
    "\n",
    "# Insights\n",
    "insights = \"\"\"\n",
    "Insights for Hospitals:\n",
    "1. Identifying the insurance providers that contribute the most to billing amounts can help hospitals negotiate better terms and understand patient demographics.\n",
    "2. Hospitals can focus on improving relationships with top insurance providers to streamline billing processes and improve cash flow.\n",
    "\n",
    "Insights for Patients:\n",
    "1. Patients can see which insurance providers are most commonly used, helping them make informed decisions when choosing or switching providers.\n",
    "2. Understanding billing distributions can encourage patients to review their insurance coverage to ensure it meets their healthcare needs and financial situation.\n",
    "\"\"\"\n",
    "\n",
    "plt.figtext(0.5, -0.2, insights, wrap=True, horizontalalignment='center', fontsize=10)\n",
    "plt.tight_layout()\n",
    "plt.show()"
   ]
  },
  {
   "cell_type": "code",
   "execution_count": null,
   "id": "c11d47e7-5075-458c-b131-a4280298a12b",
   "metadata": {},
   "outputs": [],
   "source": [
    "# 4. What is the composition of admission types (urgent, emergency, elective)?\n",
    "plt.figure(figsize=(10, 6))\n",
    "df['Admission Type'].value_counts().plot.pie(autopct='%1.1f%%', startangle=140)\n",
    "plt.title('Composition of Admission Types',fontweight='bold')\n",
    "plt.ylabel('')\n",
    "\n",
    "\n",
    "# Insights\n",
    "insights = \"\"\"\n",
    "Insights for Hospitals:\n",
    "1. Understanding the distribution of admission types helps in resource allocation, ensuring that staff and facilities are prepared for different types of admissions.\n",
    "2. Hospitals can use this information to improve emergency response protocols and manage elective surgeries more efficiently.\n",
    "\n",
    "Insights for Patients:\n",
    "1. Awareness of the distribution of admission types can help patients understand the hospital's operational focus and preparedness for different medical situations.\n",
    "2. Patients can make informed decisions about their healthcare, knowing the hospital's capabilities and response times for various types of admissions.\n",
    "\"\"\"\n",
    "\n",
    "plt.figtext(0.5, -0.2, insights, wrap=True, horizontalalignment='center', fontsize=10)\n",
    "plt.tight_layout()\n",
    "plt.show()\n"
   ]
  },
  {
   "cell_type": "code",
   "execution_count": null,
   "id": "fc56d32a-e55f-423a-a049-7cf1dce71dc5",
   "metadata": {},
   "outputs": [],
   "source": [
    "# 5. What is the proportion of different medications prescribed?\n",
    "plt.figure(figsize=(12, 8))\n",
    "df['Medication'].value_counts().plot.pie(autopct='%1.1f%%', startangle=140)\n",
    "plt.title('Proportion of Different Medications Prescribed',fontweight='bold')\n",
    "plt.ylabel('')\n",
    "\n",
    "# Insights\n",
    "insights = \"\"\"\n",
    "Insights for Hospitals:\n",
    "1. Understanding the distribution of medications prescribed helps in managing pharmacy inventory and ensuring the availability of the most commonly prescribed medications.\n",
    "2. Hospitals can use this information to negotiate better prices with suppliers for high-demand medications.\n",
    "\n",
    "Insights for Patients:\n",
    "1. Awareness of the most commonly prescribed medications can help patients understand treatment trends and what to expect during their care.\n",
    "2. Patients can use this information to discuss alternative medications with their healthcare providers if they have concerns about commonly prescribed drugs.\n",
    "\"\"\"\n",
    "\n",
    "plt.figtext(0.5, -0.1, insights, wrap=True, horizontalalignment='center', fontsize=10)\n",
    "plt.tight_layout()\n",
    "plt.show()"
   ]
  },
  {
   "cell_type": "code",
   "execution_count": null,
   "id": "7442d584-879f-4080-962d-1bcb6359dc6a",
   "metadata": {},
   "outputs": [],
   "source": []
  }
 ],
 "metadata": {
  "kernelspec": {
   "display_name": "Python 3 (ipykernel)",
   "language": "python",
   "name": "python3"
  },
  "language_info": {
   "codemirror_mode": {
    "name": "ipython",
    "version": 3
   },
   "file_extension": ".py",
   "mimetype": "text/x-python",
   "name": "python",
   "nbconvert_exporter": "python",
   "pygments_lexer": "ipython3",
   "version": "3.11.7"
  }
 },
 "nbformat": 4,
 "nbformat_minor": 5
}
